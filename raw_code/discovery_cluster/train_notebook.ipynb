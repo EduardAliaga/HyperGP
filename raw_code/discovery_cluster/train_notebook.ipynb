{
 "cells": [
  {
   "cell_type": "code",
   "execution_count": 1,
   "id": "cfaebf6c-a6b6-4d1a-88d2-aa5853294f67",
   "metadata": {},
   "outputs": [
    {
     "name": "stdout",
     "output_type": "stream",
     "text": [
      "Python 3.9.12\n"
     ]
    }
   ],
   "source": [
    "!python --version\n"
   ]
  },
  {
   "cell_type": "code",
   "execution_count": 1,
   "id": "297d03af-eeea-4c26-bb38-c0110b685b1b",
   "metadata": {},
   "outputs": [
    {
     "name": "stdout",
     "output_type": "stream",
     "text": [
      "  0%|                                                  | 0/5000 [00:00<?, ?it/s]Epoch 0  Loss 1.518  Acc 0.293\n",
      " 10%|███▊                                  | 500/5000 [10:12<1:34:33,  1.26s/it]Epoch 500  Loss 1.848  Acc 0.133\n",
      " 20%|███████▍                             | 1000/5000 [20:23<1:30:49,  1.36s/it]Epoch 1000  Loss 1.684  Acc 0.200\n",
      " 30%|███████████                          | 1500/5000 [30:47<1:13:05,  1.25s/it]Epoch 1500  Loss 1.596  Acc 0.280\n",
      " 40%|██████████████▊                      | 2000/5000 [41:09<1:01:23,  1.23s/it]Epoch 2000  Loss 1.711  Acc 0.293\n",
      " 50%|███████████████████▌                   | 2500/5000 [51:27<51:55,  1.25s/it]Epoch 2500  Loss 1.245  Acc 0.427\n",
      " 60%|██████████████████████▏              | 3000/5000 [1:01:48<41:16,  1.24s/it]Epoch 3000  Loss 1.528  Acc 0.200\n",
      " 70%|█████████████████████████▉           | 3500/5000 [1:12:05<30:18,  1.21s/it]Epoch 3500  Loss 1.153  Acc 0.453\n",
      " 80%|█████████████████████████████▌       | 4000/5000 [1:22:27<20:58,  1.26s/it]Epoch 4000  Loss 0.950  Acc 0.560\n",
      " 90%|█████████████████████████████████▎   | 4500/5000 [1:32:44<10:44,  1.29s/it]Epoch 4500  Loss 1.228  Acc 0.400\n",
      "100%|█████████████████████████████████████| 5000/5000 [1:43:07<00:00,  1.24s/it]\n",
      "Saved checkpoint to bayes_fewshot_checkpoint.pth\n",
      "\n",
      "Test 5‑way/5‑shot accuracy over 200 episodes:\n",
      "  50.93%  ±  9.55%\n"
     ]
    }
   ],
   "source": [
    "!python vanilla.py"
   ]
  },
  {
   "cell_type": "code",
   "execution_count": null,
   "id": "1f8e8053-a9d7-4d3b-8d66-9f124198d1f4",
   "metadata": {},
   "outputs": [
    {
     "name": "stdout",
     "output_type": "stream",
     "text": [
      "=== Supervised pre‑train (5 epochs) on 160 classes ===\n",
      "Pretrain E1: 100%|█████████████████████████| 148/148 [01:53<00:00,  1.30batch/s]\n",
      "Pre‑Epoch 1: Loss 4.8911  Acc 0.0198\n",
      "Pretrain E2: 100%|█████████████████████████| 148/148 [01:53<00:00,  1.30batch/s]\n",
      "Pre‑Epoch 2: Loss 4.6034  Acc 0.0430\n",
      "Pretrain E3: 100%|█████████████████████████| 148/148 [01:58<00:00,  1.25batch/s]\n",
      "Pre‑Epoch 3: Loss 4.4060  Acc 0.0637\n",
      "Pretrain E4: 100%|█████████████████████████| 148/148 [01:56<00:00,  1.27batch/s]\n",
      "Pre‑Epoch 4: Loss 4.2236  Acc 0.0839\n",
      "Pretrain E5: 100%|█████████████████████████| 148/148 [01:55<00:00,  1.28batch/s]\n",
      "Pre‑Epoch 5: Loss 4.0674  Acc 0.1016\n",
      "=== Meta‑training HyperNet on few‑shot tasks ===\n",
      "Meta‑Epoch:  71%|█████████████████▊       | 3566/5000 [1:14:44<30:11,  1.26s/it]"
     ]
    }
   ],
   "source": [
    "!python pretrained_mine.py"
   ]
  },
  {
   "cell_type": "code",
   "execution_count": 1,
   "id": "a8a3a0b1-6ab9-4453-95ef-24750b600cf2",
   "metadata": {},
   "outputs": [
    {
     "name": "stderr",
     "output_type": "stream",
     "text": [
      "\u001b[34m\u001b[1mwandb\u001b[0m: Using wandb-core as the SDK backend.  Please refer to https://wandb.me/wandb-core for more information.\n",
      "\u001b[34m\u001b[1mwandb\u001b[0m: Currently logged in as: \u001b[33maliagaeduard\u001b[0m (\u001b[33maliagaeduard-northeastern-university\u001b[0m) to \u001b[32mhttps://api.wandb.ai\u001b[0m. Use \u001b[1m`wandb login --relogin`\u001b[0m to force relogin\n"
     ]
    },
    {
     "data": {
      "text/plain": [
       "True"
      ]
     },
     "execution_count": 1,
     "metadata": {},
     "output_type": "execute_result"
    }
   ],
   "source": [
    "import os, wandb\n",
    "os.environ[\"WANDB_NOTEBOOK_NAME\"] = \"train_notebook.ipynb\"\n",
    "os.environ[\"WANDB_API_KEY\"] = \"65fd18b3a7b6388cac96dd17bfb5a4da357be6e4\"\n",
    "wandb.login()   # will pick it up from the env var automatically\n"
   ]
  },
  {
   "cell_type": "code",
   "execution_count": 3,
   "id": "d56a6610-946d-4ed9-808a-b9e755cf4b81",
   "metadata": {},
   "outputs": [
    {
     "name": "stdout",
     "output_type": "stream",
     "text": [
      "\u001b[34m\u001b[1mwandb\u001b[0m: Creating sweep from: sweep.yaml\n",
      "\u001b[34m\u001b[1mwandb\u001b[0m: \u001b[33mWARNING\u001b[0m Malformed sweep config detected! This may cause your sweep to behave in unexpected ways.\n",
      "\u001b[34m\u001b[1mwandb\u001b[0m: \u001b[33mWARNING\u001b[0m To avoid this, please fix the sweep config schema violations below:\n",
      "\u001b[34m\u001b[1mwandb\u001b[0m: \u001b[33mWARNING\u001b[0m   Violation 1. Additional properties are not allowed ('count' was unexpected)\n",
      "\u001b[34m\u001b[1mwandb\u001b[0m: Creating sweep with ID: \u001b[33mgc0r8v4l\u001b[0m\n",
      "\u001b[34m\u001b[1mwandb\u001b[0m: View sweep at: \u001b[34m\u001b[4mhttps://wandb.ai/aliagaeduard-northeastern-university/uncategorized/sweeps/gc0r8v4l\u001b[0m\n",
      "\u001b[34m\u001b[1mwandb\u001b[0m: Run sweep agent with: \u001b[33mwandb agent aliagaeduard-northeastern-university/uncategorized/gc0r8v4l\u001b[0m\n"
     ]
    }
   ],
   "source": [
    "!wandb sweep sweep.yaml"
   ]
  },
  {
   "cell_type": "code",
   "execution_count": 7,
   "id": "fd1bf045-b47d-415f-8845-4d13641c19e7",
   "metadata": {},
   "outputs": [],
   "source": [
    "#!/usr/bin/env bash\n",
    "NUM_AGENTS=9      # 3×3 grid\n",
    "for i in range(9):\n",
    "  !wandb agent aliagaeduard-northeastern-university/uncategorized/p7sr6320 --count 1 &  # detach → run in its own process\n"
   ]
  },
  {
   "cell_type": "code",
   "execution_count": 2,
   "id": "9808ab9f-5b8d-4fbc-83ac-b9b4cb065d4f",
   "metadata": {},
   "outputs": [
    {
     "name": "stdout",
     "output_type": "stream",
     "text": [
      "Defaulting to user installation because normal site-packages is not writeable\n",
      "Collecting kagglehub\n",
      "  Downloading kagglehub-0.3.11-py3-none-any.whl (63 kB)\n",
      "\u001b[K     |████████████████████████████████| 63 kB 93 kB/s  eta 0:00:01\n",
      "\u001b[?25hRequirement already satisfied: pyyaml in /shared/centos7/anaconda3/2022.05/lib/python3.9/site-packages (from kagglehub) (6.0)\n",
      "Requirement already satisfied: tqdm in /shared/centos7/anaconda3/2022.05/lib/python3.9/site-packages (from kagglehub) (4.64.0)\n",
      "Requirement already satisfied: requests in /shared/centos7/anaconda3/2022.05/lib/python3.9/site-packages (from kagglehub) (2.27.1)\n",
      "Requirement already satisfied: packaging in /shared/centos7/anaconda3/2022.05/lib/python3.9/site-packages (from kagglehub) (21.3)\n",
      "Requirement already satisfied: pyparsing!=3.0.5,>=2.0.2 in /shared/centos7/anaconda3/2022.05/lib/python3.9/site-packages (from packaging->kagglehub) (3.0.4)\n",
      "Requirement already satisfied: urllib3<1.27,>=1.21.1 in /home/aliagatorrens.e/.local/lib/python3.9/site-packages (from requests->kagglehub) (1.26.20)\n",
      "Requirement already satisfied: charset-normalizer~=2.0.0 in /shared/centos7/anaconda3/2022.05/lib/python3.9/site-packages (from requests->kagglehub) (2.0.4)\n",
      "Requirement already satisfied: certifi>=2017.4.17 in /shared/centos7/anaconda3/2022.05/lib/python3.9/site-packages (from requests->kagglehub) (2021.10.8)\n",
      "Requirement already satisfied: idna<4,>=2.5 in /shared/centos7/anaconda3/2022.05/lib/python3.9/site-packages (from requests->kagglehub) (3.3)\n",
      "Installing collected packages: kagglehub\n",
      "Successfully installed kagglehub-0.3.11\n"
     ]
    }
   ],
   "source": [
    "!pip install kagglehub\n"
   ]
  },
  {
   "cell_type": "code",
   "execution_count": 3,
   "id": "e016cbc9-167b-41a0-ab4c-6f0c4d28645a",
   "metadata": {},
   "outputs": [
    {
     "name": "stdout",
     "output_type": "stream",
     "text": [
      "Downloading from https://www.kaggle.com/api/v1/datasets/download/arjunashok33/miniimagenet?dataset_version_number=1...\n"
     ]
    },
    {
     "name": "stderr",
     "output_type": "stream",
     "text": [
      "100%|██████████| 6.28G/6.28G [02:49<00:00, 39.7MB/s]"
     ]
    },
    {
     "name": "stdout",
     "output_type": "stream",
     "text": [
      "Extracting files...\n"
     ]
    },
    {
     "name": "stderr",
     "output_type": "stream",
     "text": [
      "\n"
     ]
    },
    {
     "name": "stdout",
     "output_type": "stream",
     "text": [
      "Path to dataset files: /home/aliagatorrens.e/.cache/kagglehub/datasets/arjunashok33/miniimagenet/versions/1\n"
     ]
    }
   ],
   "source": [
    "import kagglehub\n",
    "\n",
    "# Download latest version\n",
    "path = kagglehub.dataset_download(\"arjunashok33/miniimagenet\")\n",
    "\n",
    "print(\"Path to dataset files:\", path)"
   ]
  },
  {
   "cell_type": "code",
   "execution_count": 11,
   "id": "33244e43-e3e3-4471-ab54-0039d001ff49",
   "metadata": {},
   "outputs": [
    {
     "name": "stdout",
     "output_type": "stream",
     "text": [
      "['n01532829', 'n01558993', 'n01704323', 'n01749939', 'n01770081', 'n01843383', 'n01855672', 'n01910747', 'n01930112', 'n01981276', 'n02074367', 'n02089867', 'n02091244', 'n02091831', 'n02099601', 'n02101006', 'n02105505', 'n02108089', 'n02108551', 'n02108915', 'n02110063', 'n02110341', 'n02111277', 'n02113712', 'n02114548', 'n02116738', 'n02120079', 'n02129165', 'n02138441', 'n02165456', 'n02174001', 'n02219486', 'n02443484', 'n02457408', 'n02606052', 'n02687172', 'n02747177', 'n02795169', 'n02823428', 'n02871525', 'n02950826', 'n02966193', 'n02971356', 'n02981792', 'n03017168', 'n03047690', 'n03062245', 'n03075370', 'n03127925', 'n03146219', 'n03207743', 'n03220513', 'n03272010', 'n03337140', 'n03347037', 'n03400231', 'n03417042', 'n03476684', 'n03527444', 'n03535780', 'n03544143', 'n03584254', 'n03676483', 'n03770439', 'n03773504', 'n03775546', 'n03838899', 'n03854065', 'n03888605', 'n03908618', 'n03924679', 'n03980874', 'n03998194', 'n04067472', 'n04146614', 'n04149813', 'n04243546', 'n04251144', 'n04258138', 'n04275548', 'n04296562', 'n04389033', 'n04418357', 'n04435653', 'n04443257', 'n04509417', 'n04515003', 'n04522168', 'n04596742', 'n04604644', 'n04612504', 'n06794110', 'n07584110', 'n07613480', 'n07697537', 'n07747607', 'n09246464', 'n09256479', 'n13054560', 'n13133613']\n"
     ]
    }
   ],
   "source": [
    "import os\n",
    "\n",
    "base_path = \"/home/aliagatorrens.e/.cache/kagglehub/datasets/arjunashok33/miniimagenet/versions/1/\"\n",
    "files = os.listdir(base_path)\n",
    "print(files)\n"
   ]
  },
  {
   "cell_type": "code",
   "execution_count": null,
   "id": "7a7fabc7-e5a1-426d-ba1e-4bc193b2c2c7",
   "metadata": {},
   "outputs": [],
   "source": []
  }
 ],
 "metadata": {
  "kernelspec": {
   "display_name": "Python 3 (ipykernel)",
   "language": "python",
   "name": "python3"
  },
  "language_info": {
   "codemirror_mode": {
    "name": "ipython",
    "version": 3
   },
   "file_extension": ".py",
   "mimetype": "text/x-python",
   "name": "python",
   "nbconvert_exporter": "python",
   "pygments_lexer": "ipython3",
   "version": "3.9.12"
  }
 },
 "nbformat": 4,
 "nbformat_minor": 5
}
